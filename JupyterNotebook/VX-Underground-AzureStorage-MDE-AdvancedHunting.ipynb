{
 "cells": [
  {
   "cell_type": "markdown",
   "id": "e2c7cc04",
   "metadata": {},
   "source": [
    "### installing vx-underground & azure-storage"
   ]
  },
  {
   "cell_type": "code",
   "execution_count": null,
   "id": "b3118b51",
   "metadata": {},
   "outputs": [],
   "source": [
    "#!pip install mwdblib\n",
    "#!pip install azure-storage-blob"
   ]
  },
  {
   "cell_type": "markdown",
   "id": "b7430d01",
   "metadata": {},
   "source": [
    "### importing library"
   ]
  },
  {
   "cell_type": "code",
   "execution_count": null,
   "id": "659e7f34",
   "metadata": {},
   "outputs": [],
   "source": [
    "import boto3, json, warnings, datetime\n",
    "\n",
    "from datetime import date, datetime, timedelta\n",
    "\n",
    "warnings.filterwarnings(\"ignore\")"
   ]
  },
  {
   "cell_type": "markdown",
   "id": "4156125b",
   "metadata": {},
   "source": [
    "### importing secrets [azure & vx] from aws secrets manager - replace \"xxxxxxxxxxxxxxxxxx\" with secret arn"
   ]
  },
  {
   "cell_type": "code",
   "execution_count": null,
   "id": "bb68f2aa",
   "metadata": {},
   "outputs": [],
   "source": [
    "secrets_client = boto3.client('secretsmanager')\n",
    "\n",
    "secret_arn = 'xxxxxxxxxxxxxxxxxx'\n",
    "azure_auth_token = secrets_client.get_secret_value(SecretId=secret_arn).get('SecretString')\n",
    "azure_auth_token = json.loads(azure_auth_token)\n",
    "\n",
    "secret_arn = 'xxxxxxxxxxxxxxxxxx'\n",
    "vx_auth_token = secrets_client.get_secret_value(SecretId=secret_arn).get('SecretString')\n",
    "vx_auth_token = json.loads(vx_auth_token)"
   ]
  },
  {
   "cell_type": "markdown",
   "id": "96a2a26f",
   "metadata": {},
   "source": [
    "### azure_storage_key, vx_key are secret name"
   ]
  },
  {
   "cell_type": "code",
   "execution_count": null,
   "id": "01c98b6a",
   "metadata": {},
   "outputs": [],
   "source": [
    "azure_key = azure_auth_token.get(\"azure_storage_key\")\n",
    "vx_key = vx_auth_token.get(\"vx_key\")"
   ]
  },
  {
   "cell_type": "markdown",
   "id": "ef629339",
   "metadata": {},
   "source": [
    "### generating blob searvice client, replace \"xxxxxxxxxxxxxxxxxx\" with azure account name & container name"
   ]
  },
  {
   "cell_type": "code",
   "execution_count": null,
   "id": "0b35b377",
   "metadata": {},
   "outputs": [],
   "source": [
    "from azure.storage.blob import BlobServiceClient, BlobSasPermissions, generate_blob_sas\n",
    "service = BlobServiceClient(account_url=\"https://xxxxxxxxxxxxxxxxxx.blob.core.windows.net/\", credential=azure_key)"
   ]
  },
  {
   "cell_type": "markdown",
   "id": "c8c25807",
   "metadata": {},
   "source": [
    "### getting sha1 [latest 100K] data from vx-underground and saving it in \"VX-Underground-SHA1-DB.csv\" in current directory"
   ]
  },
  {
   "cell_type": "code",
   "execution_count": null,
   "id": "e9427cf6",
   "metadata": {},
   "outputs": [],
   "source": [
    "from mwdblib import MWDB\n",
    "from itertools import islice\n",
    "\n",
    "file_name = 'VX-Underground-SHA1-DB.csv'\n",
    "\n",
    "print(\"\\nDownloading SHA1 Data to Local Syatem as CSV:\\t\" + file_name)\n",
    "\n",
    "mwdb = MWDB(api_url='https://virus.exchange/api',api_key=vx_key)\n",
    "\n",
    "files = islice(mwdb.recent_files(), 99999)\n",
    "with open(file_name, 'w') as intel:\n",
    "    for f in files:\n",
    "        intel.write(f.sha1)\n",
    "        intel.write(',\\n')"
   ]
  },
  {
   "cell_type": "markdown",
   "id": "9a042a7d",
   "metadata": {},
   "source": [
    "### uploading \"VX-Underground-SHA1-DB.csv\" to azure storage - replace \"xxxxxxxxxxxxxxxxxx\" with container name "
   ]
  },
  {
   "cell_type": "code",
   "execution_count": null,
   "id": "44192d33",
   "metadata": {},
   "outputs": [],
   "source": [
    "import os, uuid\n",
    "from azure.storage.blob import BlobServiceClient, BlobClient, ContainerClient, __version__\n",
    "\n",
    "file_name = 'VX-Underground-SHA1-DB.csv'\n",
    "\n",
    "container_client = service.get_container_client(container=\"xxxxxxxxxxxxxxxxxx\")\n",
    "\n",
    "print(\"\\nUploading to Azure Storage as CSV File:\\t\" + file_name)\n",
    "\n",
    "with open(file_name, \"rb\") as data:\n",
    "    container_client.upload_blob(name=file_name, data=data,blob_type=\"AppendBlob\",overwrite=True)\n",
    "\n",
    "print(\"\\n\\nAll Done\")"
   ]
  },
  {
   "cell_type": "markdown",
   "id": "edc23b50",
   "metadata": {},
   "source": [
    "### generating sas token to import data in mde kql"
   ]
  },
  {
   "cell_type": "code",
   "execution_count": null,
   "id": "26fa7855",
   "metadata": {},
   "outputs": [],
   "source": [
    "account_name = \"xxxxxxxxxxxxxxxxxx\"\n",
    "container_name = \"xxxxxxxxxxxxxxxxxx\"\n",
    "\n",
    "def generate_sas_token(file_name):\n",
    "    \n",
    "    sas = generate_blob_sas(account_name=account_name,\n",
    "                            account_key=azure_key,\n",
    "                            container_name=container_name,\n",
    "                            blob_name=file_name,\n",
    "                            permission=BlobSasPermissions(read=True),\n",
    "                            expiry=datetime.utcnow() + timedelta(hours=2200))\n",
    "\n",
    "    sas_url ='https://'+account_name+'.blob.core.windows.net/'+container_name+'/'+file_name+'?'+sas\n",
    "    return sas_url\n",
    "\n",
    "sas_token = generate_sas_token(file_name)\n",
    "\n",
    "print(sas_token)"
   ]
  },
  {
   "cell_type": "markdown",
   "id": "439f2f9a",
   "metadata": {},
   "source": [
    "### kql example - replace \"xxxxxxxxxxxxxxxxxx\" with sas token\n",
    "    - either run this query manually in Advanced Hunting or create a custome alert for scheduled run"
   ]
  },
  {
   "cell_type": "code",
   "execution_count": null,
   "id": "edc17183",
   "metadata": {},
   "outputs": [],
   "source": [
    "let vx_underground = materialize(externaldata(SHA1:string)\n",
    "    [@\"xxxxxxxxxxxxxxxxxx\"]\n",
    "    with (format=\"csv\", ignoreFirstRecord=false)\n",
    ");\n",
    "union (vx_underground | join (AlertEvidence | where isnotempty(SHA1)) on SHA1),(vx_underground | join (DeviceEvents | where isnotempty(SHA1)) on SHA1),\n",
    "(vx_underground | join (DeviceImageLoadEvents | where isnotempty(SHA1)) on SHA1),(vx_underground | join (DeviceFileCertificateInfo | where isnotempty(SHA1)) on SHA1),\n",
    "(vx_underground | join (DeviceFileEvents | where isnotempty(SHA1)) on SHA1),(vx_underground | join (DeviceProcessEvents | where isnotempty(SHA1)) on SHA1)\n",
    "| summarize count() by SHA11\n",
    "| sort by count_"
   ]
  },
  {
   "cell_type": "markdown",
   "id": "19097123",
   "metadata": {},
   "source": [
    "#### you can use cron job to schedule this task [downloading vx-underground latest data and uploading it to azure storage]"
   ]
  }
 ],
 "metadata": {
  "kernelspec": {
   "display_name": "conda_python3",
   "language": "python",
   "name": "conda_python3"
  },
  "language_info": {
   "codemirror_mode": {
    "name": "ipython",
    "version": 3
   },
   "file_extension": ".py",
   "mimetype": "text/x-python",
   "name": "python",
   "nbconvert_exporter": "python",
   "pygments_lexer": "ipython3",
   "version": "3.6.13"
  }
 },
 "nbformat": 4,
 "nbformat_minor": 5
}
