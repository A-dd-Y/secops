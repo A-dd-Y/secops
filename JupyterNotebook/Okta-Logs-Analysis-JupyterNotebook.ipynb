{
 "cells": [
  {
   "cell_type": "code",
   "execution_count": null,
   "id": "c92f3b64",
   "metadata": {},
   "outputs": [],
   "source": [
    "import pandas as pd\n",
    "import numpy as np\n",
    "\n",
    "import warnings\n",
    "warnings.filterwarnings('ignore')"
   ]
  },
  {
   "cell_type": "code",
   "execution_count": null,
   "id": "6a503801",
   "metadata": {},
   "outputs": [],
   "source": [
    "pd.options.display.float_format = '{:.2f}'.format"
   ]
  },
  {
   "cell_type": "code",
   "execution_count": null,
   "id": "7b3129a8",
   "metadata": {},
   "outputs": [],
   "source": [
    "okta = pd.read_csv(\"okta.csv\", encoding='iso-8859-1', engine='python', warn_bad_lines=False, error_bad_lines=False)"
   ]
  },
  {
   "cell_type": "code",
   "execution_count": null,
   "id": "96ad4fdd",
   "metadata": {},
   "outputs": [],
   "source": [
    "okta.drop(columns=\"_raw\", inplace=True)"
   ]
  },
  {
   "cell_type": "code",
   "execution_count": null,
   "id": "9e3dfb10",
   "metadata": {},
   "outputs": [],
   "source": [
    "okta['_time'] = pd.to_datetime(okta['_time'], infer_datetime_format=True)"
   ]
  },
  {
   "cell_type": "markdown",
   "id": "ea1e10a6",
   "metadata": {},
   "source": [
    "### 1. Okta administrator successfully logs in from a new country OR a new geo-location OR a new device"
   ]
  },
  {
   "cell_type": "code",
   "execution_count": null,
   "id": "b4d4a926",
   "metadata": {},
   "outputs": [],
   "source": [
    "uc01 = pd.DataFrame()\n",
    "uc01[\"_time\"] = okta[\"_time\"].copy()\n",
    "uc01[\"client.device\"] = okta[\"client.device\"].copy()\n",
    "uc01[\"client.ipAddress\"] = okta[\"client.ipAddress\"].copy()\n",
    "uc01[\"actor.alternateId\"] = okta[\"actor.alternateId\"].copy()\n",
    "uc01[\"actor.displayName\"] = okta[\"actor.displayName\"].copy()\n",
    "uc01[\"client.userAgent.os\"] = okta[\"client.userAgent.os\"].copy()\n",
    "uc01[\"client.userAgent.browser\"] = okta[\"client.userAgent.browser\"].copy()\n",
    "uc01[\"client.userAgent.rawUserAgent\"] = okta[\"client.userAgent.rawUserAgent\"].copy()\n",
    "uc01[\"client.geographicalContext.city\"] = okta[\"client.geographicalContext.city\"].copy()\n",
    "uc01[\"client.geographicalContext.country\"] = okta[\"client.geographicalContext.country\"].copy()\n",
    "\n",
    "uc01[\"eventType\"] = okta[\"eventType\"].copy()\n",
    "uc01[\"outcome.result\"] = okta[\"outcome.result\"].copy()\n",
    "uc01[\"debugContext.debugData.behaviors\"] = okta[\"debugContext.debugData.behaviors\"].copy()\n",
    "uc01[\"debugContext.debugData.logOnlySecurityData\"] = okta[\"debugContext.debugData.logOnlySecurityData\"].copy()"
   ]
  },
  {
   "cell_type": "code",
   "execution_count": null,
   "id": "9beb6f8d",
   "metadata": {},
   "outputs": [],
   "source": [
    "uc01 = uc01[uc01[\"outcome.result\"] == \"SUCCESS\"]\n",
    "uc01 = uc01[uc01[\"eventType\"] == \"user.session.access_admin_app\"]"
   ]
  },
  {
   "cell_type": "code",
   "execution_count": null,
   "id": "4f6f0e22",
   "metadata": {},
   "outputs": [],
   "source": [
    "uc01[uc01[\"debugContext.debugData.behaviors\"].str.contains(\"POSITIVE\",na=False)]\n",
    "#uc01[uc01[\"debugContext.debugData.logOnlySecurityData\"].str.contains(\"POSITIVE\",na=False)]"
   ]
  },
  {
   "cell_type": "code",
   "execution_count": null,
   "id": "0513f43e",
   "metadata": {},
   "outputs": [],
   "source": [
    "uc01[\"debugContext.debugData.behaviors\"].value_counts()"
   ]
  },
  {
   "cell_type": "markdown",
   "id": "bf05e7ca",
   "metadata": {},
   "source": [
    "#### GroupBy for UC01"
   ]
  },
  {
   "cell_type": "code",
   "execution_count": null,
   "id": "be39c1cf",
   "metadata": {},
   "outputs": [],
   "source": [
    "uc01_stats = pd.DataFrame()\n",
    "uc01_stats[\"_time\"] = okta[\"_time\"].copy()\n",
    "uc01_stats[\"client.device\"] = okta[\"client.device\"].copy()\n",
    "uc01_stats[\"client.ipAddress\"] = okta[\"client.ipAddress\"].copy()\n",
    "uc01_stats[\"actor.alternateId\"] = okta[\"actor.alternateId\"].copy()\n",
    "uc01_stats[\"actor.displayName\"] = okta[\"actor.displayName\"].copy()\n",
    "uc01_stats[\"client.userAgent.os\"] = okta[\"client.userAgent.os\"].copy()\n",
    "uc01_stats[\"client.userAgent.browser\"] = okta[\"client.userAgent.browser\"].copy()\n",
    "uc01_stats[\"client.userAgent.rawUserAgent\"] = okta[\"client.userAgent.rawUserAgent\"].copy()\n",
    "uc01_stats[\"client.geographicalContext.city\"] = okta[\"client.geographicalContext.city\"].copy()\n",
    "uc01_stats[\"client.geographicalContext.country\"] = okta[\"client.geographicalContext.country\"].copy()\n",
    "\n",
    "uc01_stats[\"eventType\"] = okta[\"eventType\"].copy()\n",
    "uc01_stats[\"outcome.result\"] = okta[\"outcome.result\"].copy()"
   ]
  },
  {
   "cell_type": "code",
   "execution_count": null,
   "id": "c84a1329",
   "metadata": {},
   "outputs": [],
   "source": [
    "uc01_stats = uc01_stats[uc01_stats[\"eventType\"] == \"user.session.access_admin_app\"]"
   ]
  },
  {
   "cell_type": "code",
   "execution_count": null,
   "id": "c5ece455",
   "metadata": {},
   "outputs": [],
   "source": [
    "stats = uc01_stats.groupby([\"outcome.result\",\"actor.alternateId\"])\n",
    "stats.first()"
   ]
  },
  {
   "cell_type": "markdown",
   "id": "281bc2ee",
   "metadata": {},
   "source": [
    "### 2. Okta Administrator logs in during non-business hours"
   ]
  },
  {
   "cell_type": "code",
   "execution_count": null,
   "id": "bbe84d3d",
   "metadata": {},
   "outputs": [],
   "source": [
    "uc02 = pd.DataFrame()\n",
    "uc02[\"_time\"] = okta[\"_time\"].copy()\n",
    "uc02[\"client.device\"] = okta[\"client.device\"].copy()\n",
    "uc02[\"client.ipAddress\"] = okta[\"client.ipAddress\"].copy()\n",
    "uc02[\"actor.alternateId\"] = okta[\"actor.alternateId\"].copy()\n",
    "uc02[\"actor.displayName\"] = okta[\"actor.displayName\"].copy()\n",
    "uc02[\"client.userAgent.os\"] = okta[\"client.userAgent.os\"].copy()\n",
    "uc02[\"client.userAgent.browser\"] = okta[\"client.userAgent.browser\"].copy()\n",
    "uc02[\"client.userAgent.rawUserAgent\"] = okta[\"client.userAgent.rawUserAgent\"].copy()\n",
    "uc02[\"client.geographicalContext.city\"] = okta[\"client.geographicalContext.city\"].copy()\n",
    "uc02[\"client.geographicalContext.country\"] = okta[\"client.geographicalContext.country\"].copy()\n",
    "\n",
    "uc02[\"eventType\"] = okta[\"eventType\"].copy()\n",
    "uc02[\"outcome.result\"] = okta[\"outcome.result\"].copy()"
   ]
  },
  {
   "cell_type": "code",
   "execution_count": null,
   "id": "7926a057",
   "metadata": {},
   "outputs": [],
   "source": [
    "uc02 = uc02[uc02[\"outcome.result\"] == \"SUCCESS\"]\n",
    "uc02 = uc02[uc02[\"eventType\"] == \"user.session.access_admin_app\"]"
   ]
  },
  {
   "cell_type": "code",
   "execution_count": null,
   "id": "9597054b",
   "metadata": {},
   "outputs": [],
   "source": [
    "uc02[\"NonWorkingHour\"] = uc02[\"_time\"].dt.hour.between(5,19)"
   ]
  },
  {
   "cell_type": "code",
   "execution_count": null,
   "id": "39912960",
   "metadata": {},
   "outputs": [],
   "source": [
    "uc02[uc02[\"NonWorkingHour\"] == False].count()"
   ]
  },
  {
   "cell_type": "code",
   "execution_count": null,
   "id": "410fc62c",
   "metadata": {},
   "outputs": [],
   "source": [
    "uc02[uc02[\"NonWorkingHour\"]==False]"
   ]
  },
  {
   "cell_type": "markdown",
   "id": "d38f9daf",
   "metadata": {},
   "source": [
    "### 3. Okta user successfully logs in from a new country AND a new geo-location AND a new device"
   ]
  },
  {
   "cell_type": "code",
   "execution_count": null,
   "id": "74d09d12",
   "metadata": {},
   "outputs": [],
   "source": [
    "uc03 = pd.DataFrame()\n",
    "uc03[\"_time\"] = okta[\"_time\"].copy()\n",
    "uc03[\"client.device\"] = okta[\"client.device\"].copy()\n",
    "uc03[\"client.ipAddress\"] = okta[\"client.ipAddress\"].copy()\n",
    "uc03[\"actor.alternateId\"] = okta[\"actor.alternateId\"].copy()\n",
    "uc03[\"actor.displayName\"] = okta[\"actor.displayName\"].copy()\n",
    "uc03[\"client.userAgent.os\"] = okta[\"client.userAgent.os\"].copy()\n",
    "uc03[\"client.userAgent.browser\"] = okta[\"client.userAgent.browser\"].copy()\n",
    "uc03[\"client.userAgent.rawUserAgent\"] = okta[\"client.userAgent.rawUserAgent\"].copy()\n",
    "uc03[\"client.geographicalContext.city\"] = okta[\"client.geographicalContext.city\"].copy()\n",
    "uc03[\"client.geographicalContext.country\"] = okta[\"client.geographicalContext.country\"].copy()\n",
    "\n",
    "uc03[\"eventType\"] = okta[\"eventType\"].copy()\n",
    "uc03[\"outcome.result\"] = okta[\"outcome.result\"].copy()\n",
    "uc03[\"debugContext.debugData.behaviors\"] = okta[\"debugContext.debugData.behaviors\"].copy()\n",
    "uc03[\"debugContext.debugData.logOnlySecurityData\"] = okta[\"debugContext.debugData.logOnlySecurityData\"].copy()"
   ]
  },
  {
   "cell_type": "code",
   "execution_count": null,
   "id": "55a95c87",
   "metadata": {},
   "outputs": [],
   "source": [
    "uc03 = uc03[uc03[\"outcome.result\"] == \"SUCCESS\"]\n",
    "uc03 = uc03[uc03[\"eventType\"] == \"user.session.start\"]"
   ]
  },
  {
   "cell_type": "code",
   "execution_count": null,
   "id": "66b9021b",
   "metadata": {},
   "outputs": [],
   "source": [
    "behaviors = uc03[uc03[\"debugContext.debugData.behaviors\"].str.contains(\"POSITIVE\",na=False)]\n",
    "logOnlySecurityData = uc03[uc03[\"debugContext.debugData.logOnlySecurityData\"].str.contains(\"POSITIVE\",na=False)]"
   ]
  },
  {
   "cell_type": "code",
   "execution_count": null,
   "id": "596ea394",
   "metadata": {},
   "outputs": [],
   "source": [
    "behaviors01 = uc03[uc03[\"debugContext.debugData.behaviors\"].str.contains(\"New Country=POSITIVE\",na=False)]\n",
    "behaviors02 = behaviors01[behaviors01[\"debugContext.debugData.behaviors\"].str.contains(\"New Geo-Location=POSITIVE\",na=False)]\n",
    "behaviors03 = behaviors02[behaviors02[\"debugContext.debugData.behaviors\"].str.contains(\"New Device=POSITIVE\",na=False)]"
   ]
  },
  {
   "cell_type": "code",
   "execution_count": null,
   "id": "1f563ecd",
   "metadata": {},
   "outputs": [],
   "source": [
    "logOnlySecurityData01 = uc03[uc03[\"debugContext.debugData.logOnlySecurityData\"].str.contains(\"\\\"New Country\\\":\\\"POSITIVE\\\"\",na=False)]\n",
    "logOnlySecurityData02 = logOnlySecurityData01[logOnlySecurityData01[\"debugContext.debugData.logOnlySecurityData\"].str.contains(\"\\\"New Geo-Location\\\":\\\"POSITIVE\\\"\",na=False)]\n",
    "logOnlySecurityData03 = logOnlySecurityData02[logOnlySecurityData02[\"debugContext.debugData.logOnlySecurityData\"].str.contains(\"\\\"New Device\\\":\\\"POSITIVE\\\"\",na=False)]"
   ]
  },
  {
   "cell_type": "code",
   "execution_count": null,
   "id": "e7119806",
   "metadata": {},
   "outputs": [],
   "source": [
    "OktaUserLogin = [behaviors01,logOnlySecurityData01]\n",
    "OktaUserLoginFrom_NewCountry = pd.concat(OktaUserLogin)\n",
    "\n",
    "OktaUserLoginFrom_NewCountry"
   ]
  },
  {
   "cell_type": "code",
   "execution_count": null,
   "id": "c10ddf6d",
   "metadata": {},
   "outputs": [],
   "source": [
    "OktaUserLogin = [behaviors02,logOnlySecurityData02]\n",
    "OktaUserLoginFrom_NewCountry_AND_NewGeoLocation = pd.concat(OktaUserLogin)\n",
    "\n",
    "OktaUserLoginFrom_NewCountry_AND_NewGeoLocation"
   ]
  },
  {
   "cell_type": "code",
   "execution_count": null,
   "id": "48dca8e9",
   "metadata": {},
   "outputs": [],
   "source": [
    "OktaUserLogin = [behaviors03,logOnlySecurityData03]\n",
    "OktaUserLoginFrom_NewCountry_AND_NewGeoLocation_AND_NewDevice = pd.concat(OktaUserLogin)\n",
    "\n",
    "OktaUserLoginFrom_NewCountry_AND_NewGeoLocation_AND_NewDevice"
   ]
  },
  {
   "cell_type": "markdown",
   "id": "543771a6",
   "metadata": {},
   "source": [
    "### 4. Okta user successfully logs in from an IP flagged by Emerging Threats or Abuse.ch Threat Intelligence sources"
   ]
  },
  {
   "cell_type": "code",
   "execution_count": null,
   "id": "9d42adee",
   "metadata": {},
   "outputs": [],
   "source": [
    "uc04 = pd.DataFrame()\n",
    "uc04[\"_time\"] = okta[\"_time\"].copy()\n",
    "uc04[\"client.device\"] = okta[\"client.device\"].copy()\n",
    "uc04[\"client.ipAddress\"] = okta[\"client.ipAddress\"].copy()\n",
    "uc04[\"actor.alternateId\"] = okta[\"actor.alternateId\"].copy()\n",
    "uc04[\"actor.displayName\"] = okta[\"actor.displayName\"].copy()\n",
    "uc04[\"client.userAgent.os\"] = okta[\"client.userAgent.os\"].copy()\n",
    "uc04[\"client.userAgent.browser\"] = okta[\"client.userAgent.browser\"].copy()\n",
    "uc04[\"client.userAgent.rawUserAgent\"] = okta[\"client.userAgent.rawUserAgent\"].copy()\n",
    "uc04[\"client.geographicalContext.city\"] = okta[\"client.geographicalContext.city\"].copy()\n",
    "uc04[\"client.geographicalContext.country\"] = okta[\"client.geographicalContext.country\"].copy()\n",
    "\n",
    "\n",
    "uc04[\"eventType\"] = okta[\"eventType\"].copy()\n",
    "uc04[\"outcome.result\"] = okta[\"outcome.result\"].copy()"
   ]
  },
  {
   "cell_type": "code",
   "execution_count": null,
   "id": "d7da8e10",
   "metadata": {},
   "outputs": [],
   "source": [
    "uc04 = uc04[uc04[\"outcome.result\"] == \"SUCCESS\"]\n",
    "uc04 = uc04[uc04[\"eventType\"] == \"user.session.start\"]"
   ]
  },
  {
   "cell_type": "code",
   "execution_count": null,
   "id": "1423dfae",
   "metadata": {},
   "outputs": [],
   "source": [
    "bad_ips = pd.read_csv(\"OSINT/IP-Intel.csv\")\n",
    "bad_ips.drop(columns=\"Unnamed: 0\",inplace=True)"
   ]
  },
  {
   "cell_type": "code",
   "execution_count": null,
   "id": "ab3cdba1",
   "metadata": {},
   "outputs": [],
   "source": [
    "ips = bad_ips.get(key=\"IPs\")\n",
    "ips = ips.array\n",
    "uc04.loc[uc04[\"client.ipAddress\"].isin(ips)]"
   ]
  },
  {
   "cell_type": "markdown",
   "id": "e84edf3c",
   "metadata": {},
   "source": [
    "### 5. Okta user successfully logs in from a Tor exit node"
   ]
  },
  {
   "cell_type": "code",
   "execution_count": null,
   "id": "b666a615",
   "metadata": {},
   "outputs": [],
   "source": [
    "uc05 = pd.DataFrame()\n",
    "uc05[\"_time\"] = okta[\"_time\"].copy()\n",
    "uc05[\"client.device\"] = okta[\"client.device\"].copy()\n",
    "uc05[\"client.ipAddress\"] = okta[\"client.ipAddress\"].copy()\n",
    "uc05[\"actor.alternateId\"] = okta[\"actor.alternateId\"].copy()\n",
    "uc05[\"actor.displayName\"] = okta[\"actor.displayName\"].copy()\n",
    "uc05[\"client.userAgent.os\"] = okta[\"client.userAgent.os\"].copy()\n",
    "uc05[\"client.userAgent.browser\"] = okta[\"client.userAgent.browser\"].copy()\n",
    "uc05[\"client.userAgent.rawUserAgent\"] = okta[\"client.userAgent.rawUserAgent\"].copy()\n",
    "uc05[\"client.geographicalContext.city\"] = okta[\"client.geographicalContext.city\"].copy()\n",
    "uc05[\"client.geographicalContext.country\"] = okta[\"client.geographicalContext.country\"].copy()\n",
    "\n",
    "uc05[\"eventType\"] = okta[\"eventType\"].copy()\n",
    "uc05[\"outcome.result\"] = okta[\"outcome.result\"].copy()"
   ]
  },
  {
   "cell_type": "code",
   "execution_count": null,
   "id": "14059646",
   "metadata": {},
   "outputs": [],
   "source": [
    "uc05_s = uc05[uc05[\"outcome.result\"] == \"SUCCESS\"]\n",
    "uc05_s = uc05[uc05[\"eventType\"] == \"user.session.start\"]"
   ]
  },
  {
   "cell_type": "code",
   "execution_count": null,
   "id": "c2ec7233",
   "metadata": {},
   "outputs": [],
   "source": [
    "Tor_Node_IPs = pd.read_csv(\"OSINT/Tor_Node_IPs.csv\")\n",
    "Tor_Node_IPs.drop(columns=\"Unnamed: 0\",inplace=True)\n",
    "\n",
    "Tor_Exit_Node_IPs = pd.read_csv(\"OSINT/Tor_Exit_Node_IPs.csv\")\n",
    "Tor_Exit_Node_IPs.drop(columns=\"Unnamed: 0\",inplace=True)"
   ]
  },
  {
   "cell_type": "code",
   "execution_count": null,
   "id": "e731d02f",
   "metadata": {},
   "outputs": [],
   "source": [
    "ips = Tor_Node_IPs.get(key=\"Tor_Node_IPs\")\n",
    "ips = ips.array\n",
    "uc05_s.loc[uc05_s[\"client.ipAddress\"].isin(ips)]"
   ]
  },
  {
   "cell_type": "code",
   "execution_count": null,
   "id": "f1924ee5",
   "metadata": {},
   "outputs": [],
   "source": [
    "ips = Tor_Exit_Node_IPs.get(key=\"Tor_Exit_Node_IPs\")\n",
    "ips = ips.array\n",
    "uc05_s.loc[uc05_s[\"client.ipAddress\"].isin(ips)]"
   ]
  },
  {
   "cell_type": "code",
   "execution_count": null,
   "id": "2ab6c585",
   "metadata": {},
   "outputs": [],
   "source": [
    "Tor_IPs = pd.read_csv(\"OSINT/Tor-IP-Intel.csv\")\n",
    "Tor_IPs.drop(columns=\"Unnamed: 0\",inplace=True)"
   ]
  },
  {
   "cell_type": "code",
   "execution_count": null,
   "id": "545962cb",
   "metadata": {},
   "outputs": [],
   "source": [
    "ips = Tor_IPs.get(key=\"Tor_IPs\")\n",
    "ips = ips.array\n",
    "uc05.loc[uc05[\"client.ipAddress\"].isin(ips)]"
   ]
  },
  {
   "cell_type": "markdown",
   "id": "5f512480",
   "metadata": {},
   "source": [
    "### 6. Okta user changed their MFA method or password from a different country"
   ]
  },
  {
   "cell_type": "code",
   "execution_count": null,
   "id": "58917724",
   "metadata": {},
   "outputs": [],
   "source": [
    "uc06 = pd.DataFrame()\n",
    "uc06[\"_time\"] = okta[\"_time\"].copy()\n",
    "uc06[\"client.device\"] = okta[\"client.device\"].copy()\n",
    "uc06[\"client.ipAddress\"] = okta[\"client.ipAddress\"].copy()\n",
    "uc06[\"actor.alternateId\"] = okta[\"actor.alternateId\"].copy()\n",
    "uc06[\"actor.displayName\"] = okta[\"actor.displayName\"].copy()\n",
    "uc06[\"client.userAgent.os\"] = okta[\"client.userAgent.os\"].copy()\n",
    "uc06[\"client.userAgent.browser\"] = okta[\"client.userAgent.browser\"].copy()\n",
    "uc06[\"client.userAgent.rawUserAgent\"] = okta[\"client.userAgent.rawUserAgent\"].copy()\n",
    "uc06[\"client.geographicalContext.city\"] = okta[\"client.geographicalContext.city\"].copy()\n",
    "uc06[\"client.geographicalContext.country\"] = okta[\"client.geographicalContext.country\"].copy()\n",
    "\n",
    "uc06[\"eventType\"] = okta[\"eventType\"].copy()\n",
    "uc06[\"outcome.reason\"] = okta[\"outcome.reason\"].copy()\n",
    "uc06[\"outcome.result\"] = okta[\"outcome.result\"].copy()\n",
    "uc06[\"debugContext.debugData.behaviors\"] = okta[\"debugContext.debugData.behaviors\"].copy()\n",
    "uc06[\"debugContext.debugData.logOnlySecurityData\"] = okta[\"debugContext.debugData.logOnlySecurityData\"].copy()"
   ]
  },
  {
   "cell_type": "code",
   "execution_count": null,
   "id": "402fdfde",
   "metadata": {},
   "outputs": [],
   "source": [
    "uc06_ar = [\"user.mfa.factor.activate\",\"user.mfa.factor.update\",\"user.account.update_password\",\"user.account.reset_password\"]\n",
    "\n",
    "uc06 = uc06[uc06[\"outcome.result\"] == \"SUCCESS\"]\n",
    "#uc06 = uc06[uc06[\"outcome.reason\"] == \"User set up OKTA_VERIFY_PUSH factor\"]\n",
    "uc06 = uc06[uc06[\"eventType\"].isin(uc06_ar)]"
   ]
  },
  {
   "cell_type": "code",
   "execution_count": null,
   "id": "d8037cc4",
   "metadata": {},
   "outputs": [],
   "source": [
    "uc06_01 = uc06[uc06[\"debugContext.debugData.behaviors\"].str.contains(\"New Country=POSITIVE\",na=False)]\n",
    "uc06_02 = uc06[uc06[\"debugContext.debugData.behaviors\"].str.contains(\"New Geo-Location=POSITIVE\",na=False)]"
   ]
  },
  {
   "cell_type": "code",
   "execution_count": null,
   "id": "78aa5f0a",
   "metadata": {},
   "outputs": [],
   "source": [
    "OktaUserLogin = [uc06_01,uc06_02]\n",
    "OktaUserLoginFrom_NewCountry_OR_NewGeoLocation = pd.concat(OktaUserLogin)\n",
    "\n",
    "OktaUserLoginFrom_NewCountry_OR_NewGeoLocation"
   ]
  },
  {
   "cell_type": "markdown",
   "id": "040f92f1",
   "metadata": {},
   "source": [
    "### 7. Okta Global administrator successfully logs in"
   ]
  },
  {
   "cell_type": "code",
   "execution_count": null,
   "id": "dcd8e70c",
   "metadata": {},
   "outputs": [],
   "source": [
    "uc07 = pd.DataFrame()\n",
    "uc07[\"_time\"] = okta[\"_time\"].copy()\n",
    "uc07[\"actor.id\"] = okta[\"actor.id\"].copy()\n",
    "uc07[\"client.device\"] = okta[\"client.device\"].copy()\n",
    "uc07[\"client.ipAddress\"] = okta[\"client.ipAddress\"].copy()\n",
    "uc07[\"actor.alternateId\"] = okta[\"actor.alternateId\"].copy()\n",
    "uc07[\"actor.displayName\"] = okta[\"actor.displayName\"].copy()\n",
    "uc07[\"client.userAgent.os\"] = okta[\"client.userAgent.os\"].copy()\n",
    "uc07[\"client.userAgent.browser\"] = okta[\"client.userAgent.browser\"].copy()\n",
    "uc07[\"client.userAgent.rawUserAgent\"] = okta[\"client.userAgent.rawUserAgent\"].copy()\n",
    "uc07[\"client.geographicalContext.city\"] = okta[\"client.geographicalContext.city\"].copy()\n",
    "uc07[\"client.geographicalContext.country\"] = okta[\"client.geographicalContext.country\"].copy()\n",
    "\n",
    "uc07[\"eventType\"] = okta[\"eventType\"].copy()\n",
    "uc07[\"outcome.result\"] = okta[\"outcome.result\"].copy()\n",
    "uc07[\"securityContext.domain\"] = okta[\"securityContext.domain\"].copy()"
   ]
  },
  {
   "cell_type": "code",
   "execution_count": null,
   "id": "4bc31c34",
   "metadata": {},
   "outputs": [],
   "source": [
    "uc07 = uc07[uc07[\"outcome.result\"] == \"SUCCESS\"]\n",
    "uc07 = uc07[uc07[\"eventType\"] == \"user.session.start\"]\n",
    "uc07_01 = uc07[uc07[\"actor.id\"].str.contains(\"admin\",na=False)]\n",
    "uc07_02 = uc07[uc07[\"actor.alternateId\"].str.contains(\"admin\",na=False)]"
   ]
  },
  {
   "cell_type": "code",
   "execution_count": null,
   "id": "0d4f47bf",
   "metadata": {},
   "outputs": [],
   "source": [
    "OktaAdminLogin_temp = pd.DataFrame()\n",
    "OktaAdminLogin_temp = [uc07_01, uc07_02]\n",
    "OktaAdminLogin = pd.concat(OktaAdminLogin_temp)\n",
    "\n",
    "OktaAdminLogin"
   ]
  },
  {
   "cell_type": "markdown",
   "id": "cc71a9d9",
   "metadata": {},
   "source": [
    "### 8. Okta password spray attacks on your Okta tenant"
   ]
  },
  {
   "cell_type": "code",
   "execution_count": null,
   "id": "968b10aa",
   "metadata": {},
   "outputs": [],
   "source": [
    "uc08 = pd.DataFrame()\n",
    "uc08[\"_time\"] = okta[\"_time\"].copy()\n",
    "uc08[\"client.device\"] = okta[\"client.device\"].copy()\n",
    "uc08[\"client.ipAddress\"] = okta[\"client.ipAddress\"].copy()\n",
    "uc08[\"actor.alternateId\"] = okta[\"actor.alternateId\"].copy()\n",
    "uc08[\"actor.displayName\"] = okta[\"actor.displayName\"].copy()\n",
    "uc08[\"client.userAgent.os\"] = okta[\"client.userAgent.os\"].copy()\n",
    "uc08[\"client.userAgent.browser\"] = okta[\"client.userAgent.browser\"].copy()\n",
    "uc08[\"client.userAgent.rawUserAgent\"] = okta[\"client.userAgent.rawUserAgent\"].copy()\n",
    "uc08[\"client.geographicalContext.city\"] = okta[\"client.geographicalContext.city\"].copy()\n",
    "uc08[\"client.geographicalContext.country\"] = okta[\"client.geographicalContext.country\"].copy()\n",
    "\n",
    "uc08[\"debugContext.debugData.threatSuspected\"] = okta[\"debugContext.debugData.threatSuspected\"].copy()\n",
    "uc08[\"debugContext.debugData.threatDetections\"] = okta[\"debugContext.debugData.threatDetections\"].copy()"
   ]
  },
  {
   "cell_type": "code",
   "execution_count": null,
   "id": "0b89fc8d",
   "metadata": {},
   "outputs": [],
   "source": [
    "uc08 = uc08[uc08[\"debugContext.debugData.threatSuspected\"] == True]"
   ]
  },
  {
   "cell_type": "code",
   "execution_count": null,
   "id": "e9e738c4",
   "metadata": {},
   "outputs": [],
   "source": [
    "stats = uc08.groupby([\"debugContext.debugData.threatDetections\"])\n",
    "stats.first()"
   ]
  },
  {
   "cell_type": "code",
   "execution_count": null,
   "id": "cad1763e",
   "metadata": {},
   "outputs": [],
   "source": [
    "uc08 = uc08[uc08[\"debugContext.debugData.threatDetections\"].str.contains(\"Spray\")]\n",
    "uc08"
   ]
  },
  {
   "cell_type": "markdown",
   "id": "d9fe33a5",
   "metadata": {},
   "source": [
    "### 9. Okta API token created"
   ]
  },
  {
   "cell_type": "code",
   "execution_count": null,
   "id": "1cf7fd40",
   "metadata": {},
   "outputs": [],
   "source": [
    "uc09 = pd.DataFrame()\n",
    "uc09[\"_time\"] = okta[\"_time\"].copy()\n",
    "uc09[\"client.device\"] = okta[\"client.device\"].copy()\n",
    "uc09[\"client.ipAddress\"] = okta[\"client.ipAddress\"].copy()\n",
    "uc09[\"actor.alternateId\"] = okta[\"actor.alternateId\"].copy()\n",
    "uc09[\"actor.displayName\"] = okta[\"actor.displayName\"].copy()\n",
    "uc09[\"client.userAgent.os\"] = okta[\"client.userAgent.os\"].copy()\n",
    "uc09[\"securityContext.isp\"] = okta[\"securityContext.isp\"].copy()\n",
    "uc09[\"client.userAgent.browser\"] = okta[\"client.userAgent.browser\"].copy()\n",
    "uc09[\"client.userAgent.rawUserAgent\"] = okta[\"client.userAgent.rawUserAgent\"].copy()\n",
    "uc09[\"client.geographicalContext.city\"] = okta[\"client.geographicalContext.city\"].copy()\n",
    "uc09[\"client.geographicalContext.country\"] = okta[\"client.geographicalContext.country\"].copy()\n",
    "\n",
    "uc09[\"eventType\"] = okta[\"eventType\"].copy()\n",
    "uc09[\"outcome.result\"] = okta[\"outcome.result\"].copy()"
   ]
  },
  {
   "cell_type": "code",
   "execution_count": null,
   "id": "2bde4386",
   "metadata": {},
   "outputs": [],
   "source": [
    "uc09 = uc09[uc09[\"outcome.result\"] == \"SUCCESS\"]\n",
    "uc09 = uc09[uc09[\"eventType\"] == \"system.api_token.create\"]\n",
    "uc09"
   ]
  },
  {
   "cell_type": "markdown",
   "id": "caabe571",
   "metadata": {},
   "source": [
    "### 10. Okta user attempts to access unauthorised application(s)"
   ]
  },
  {
   "cell_type": "code",
   "execution_count": null,
   "id": "c8785401",
   "metadata": {},
   "outputs": [],
   "source": [
    "uc10 = pd.DataFrame()\n",
    "uc10[\"_time\"] = okta[\"_time\"].copy()\n",
    "uc10[\"client.device\"] = okta[\"client.device\"].copy()\n",
    "uc10[\"client.ipAddress\"] = okta[\"client.ipAddress\"].copy()\n",
    "uc10[\"actor.alternateId\"] = okta[\"actor.alternateId\"].copy()\n",
    "uc10[\"actor.displayName\"] = okta[\"actor.displayName\"].copy()\n",
    "uc10[\"securityContext.isp\"] = okta[\"securityContext.isp\"].copy()\n",
    "uc10[\"client.userAgent.os\"] = okta[\"client.userAgent.os\"].copy()\n",
    "uc10[\"client.userAgent.browser\"] = okta[\"client.userAgent.browser\"].copy()\n",
    "uc10[\"client.userAgent.rawUserAgent\"] = okta[\"client.userAgent.rawUserAgent\"].copy()\n",
    "uc10[\"client.geographicalContext.city\"] = okta[\"client.geographicalContext.city\"].copy()\n",
    "uc10[\"client.geographicalContext.country\"] = okta[\"client.geographicalContext.country\"].copy()\n",
    "\n",
    "uc10[\"eventType\"] = okta[\"eventType\"].copy()\n",
    "uc10[\"targetAppDisplayName\"] = okta[\"targetAppDisplayName\"].copy()"
   ]
  },
  {
   "cell_type": "code",
   "execution_count": null,
   "id": "62d67ae2",
   "metadata": {},
   "outputs": [],
   "source": [
    "uc10 = uc10[uc10[\"eventType\"] == \"app.generic.unauth_app_access_attempt\"]"
   ]
  },
  {
   "cell_type": "code",
   "execution_count": null,
   "id": "02b05485",
   "metadata": {},
   "outputs": [],
   "source": [
    "stats = uc10.groupby([\"actor.alternateId\",\"targetAppDisplayName\"]).size().sort_values(ascending=False)\n",
    "stats"
   ]
  },
  {
   "cell_type": "markdown",
   "id": "49c11326",
   "metadata": {},
   "source": [
    "### 11. More than two MFA push notifications got rejected by the Okta user"
   ]
  },
  {
   "cell_type": "code",
   "execution_count": null,
   "id": "83a2feb8",
   "metadata": {},
   "outputs": [],
   "source": [
    "uc11 = pd.DataFrame()\n",
    "uc11[\"_time\"] = okta[\"_time\"].copy()\n",
    "uc11[\"client.device\"] = okta[\"client.device\"].copy()\n",
    "uc11[\"client.ipAddress\"] = okta[\"client.ipAddress\"].copy()\n",
    "uc11[\"actor.alternateId\"] = okta[\"actor.alternateId\"].copy()\n",
    "uc11[\"actor.displayName\"] = okta[\"actor.displayName\"].copy()\n",
    "uc11[\"securityContext.isp\"] = okta[\"securityContext.isp\"].copy()\n",
    "uc11[\"client.userAgent.os\"] = okta[\"client.userAgent.os\"].copy()\n",
    "uc11[\"client.userAgent.browser\"] = okta[\"client.userAgent.browser\"].copy()\n",
    "uc11[\"client.userAgent.rawUserAgent\"] = okta[\"client.userAgent.rawUserAgent\"].copy()\n",
    "uc11[\"client.geographicalContext.city\"] = okta[\"client.geographicalContext.city\"].copy()\n",
    "uc11[\"client.geographicalContext.country\"] = okta[\"client.geographicalContext.country\"].copy()\n",
    "\n",
    "uc11[\"eventType\"] = okta[\"eventType\"].copy()"
   ]
  },
  {
   "cell_type": "code",
   "execution_count": null,
   "id": "c02987c3",
   "metadata": {},
   "outputs": [],
   "source": [
    "uc11 = uc11[uc11[\"eventType\"] == \"user.mfa.okta_verify.deny_push\"]"
   ]
  },
  {
   "cell_type": "code",
   "execution_count": null,
   "id": "3005dc75",
   "metadata": {},
   "outputs": [],
   "source": [
    "stats = uc11.groupby([\"actor.alternateId\"]).size().sort_values(ascending=False).reset_index(name=\"Count\")\n",
    "stats.where(stats[\"Count\"]>1).dropna()"
   ]
  },
  {
   "cell_type": "markdown",
   "id": "46cb9fcc",
   "metadata": {},
   "source": [
    "### 12. Okta policy change occurred"
   ]
  },
  {
   "cell_type": "code",
   "execution_count": null,
   "id": "5bfc55e3",
   "metadata": {},
   "outputs": [],
   "source": [
    "uc12 = pd.DataFrame()\n",
    "uc12[\"_time\"] = okta[\"_time\"].copy()\n",
    "uc12[\"client.device\"] = okta[\"client.device\"].copy()\n",
    "uc12[\"client.ipAddress\"] = okta[\"client.ipAddress\"].copy()\n",
    "uc12[\"actor.alternateId\"] = okta[\"actor.alternateId\"].copy()\n",
    "uc12[\"actor.displayName\"] = okta[\"actor.displayName\"].copy()\n",
    "uc12[\"securityContext.isp\"] = okta[\"securityContext.isp\"].copy()\n",
    "uc12[\"client.userAgent.os\"] = okta[\"client.userAgent.os\"].copy()\n",
    "uc12[\"client.userAgent.browser\"] = okta[\"client.userAgent.browser\"].copy()\n",
    "uc12[\"client.userAgent.rawUserAgent\"] = okta[\"client.userAgent.rawUserAgent\"].copy()\n",
    "uc12[\"client.geographicalContext.city\"] = okta[\"client.geographicalContext.city\"].copy()\n",
    "uc12[\"client.geographicalContext.country\"] = okta[\"client.geographicalContext.country\"].copy()\n",
    "\n",
    "uc12[\"eventType\"] = okta[\"eventType\"].copy()\n",
    "uc12[\"outcome.result\"] = okta[\"outcome.result\"].copy()\n",
    "uc12[\"displayMessage\"] = okta[\"displayMessage\"].copy()\n",
    "uc12[\"target{}.displayName\"] = okta[\"target{}.displayName\"].copy()\n",
    "uc12[\"targetPolicyRuleDisplayName\"] = okta[\"targetPolicyRuleDisplayName\"].copy()"
   ]
  },
  {
   "cell_type": "code",
   "execution_count": null,
   "id": "3ff62b66",
   "metadata": {},
   "outputs": [],
   "source": [
    "uc12 = uc12[uc12[\"outcome.result\"] == \"SUCCESS\"]\n",
    "\n",
    "uc12_ar = [\"policy.rule.update\",\"policy.lifecycle.update\",\"policy.rule.create\",\"policy.lifecycle.create\",\n",
    "      \"policy.rule.delete\",\"policy.lifecycle.delete\",\"policy.rule.deactivate\",\"policy.lifecycle.deactivate\",\n",
    "     \"policy.rule.modify\",\"policy.lifecycle.modify\",\"policy.rule.invalidate\",\"policy.lifecycle.invalidate\",\n",
    "     \"policy.rule.activate\",\"policy.lifecycle.activate\",\"policy.rule.add\",\"policy.lifecycle.add\",\n",
    "      \"policy.lifecycle.override\",\"policy.rule.add\",\"policy.lifecycle.override\",\"network_zone.rule.disabled\",\n",
    "     \"zone.activate\",\"zone.create\",\"zone.deactivate\",\"zone.delete\",\"zone.update\",\n",
    "      \"application.policy.sign_on.rule.create\",\"application.policy.sign_on.rule.delete\",\n",
    "      \"application.policy.sign_on.rule.delete\",\"security.authenticator.lifecycle.deactivate\",\n",
    "      \"user.mfa.factor.reset_all\",\"system.mfa.factor.deactivate\",\"security.authenticator.lifecycle.deactivate\"]\n",
    "uc12 = uc12[uc12[\"eventType\"].isin(uc12_ar)]"
   ]
  },
  {
   "cell_type": "code",
   "execution_count": null,
   "id": "f9bd030b",
   "metadata": {},
   "outputs": [],
   "source": [
    "uc12"
   ]
  },
  {
   "cell_type": "markdown",
   "id": "8d34b0bc",
   "metadata": {},
   "source": [
    "### 13. More than 5 applications connections got deleted within Okta"
   ]
  },
  {
   "cell_type": "code",
   "execution_count": null,
   "id": "6af927ba",
   "metadata": {},
   "outputs": [],
   "source": [
    "uc13 = pd.DataFrame()\n",
    "uc13[\"_time\"] = okta[\"_time\"].copy()\n",
    "uc13[\"client.device\"] = okta[\"client.device\"].copy()\n",
    "uc13[\"client.ipAddress\"] = okta[\"client.ipAddress\"].copy()\n",
    "uc13[\"actor.alternateId\"] = okta[\"actor.alternateId\"].copy()\n",
    "uc13[\"actor.displayName\"] = okta[\"actor.displayName\"].copy()\n",
    "uc13[\"securityContext.isp\"] = okta[\"securityContext.isp\"].copy()\n",
    "uc13[\"client.userAgent.os\"] = okta[\"client.userAgent.os\"].copy()\n",
    "uc13[\"client.userAgent.browser\"] = okta[\"client.userAgent.browser\"].copy()\n",
    "uc13[\"client.userAgent.rawUserAgent\"] = okta[\"client.userAgent.rawUserAgent\"].copy()\n",
    "uc13[\"client.geographicalContext.city\"] = okta[\"client.geographicalContext.city\"].copy()\n",
    "uc13[\"client.geographicalContext.country\"] = okta[\"client.geographicalContext.country\"].copy()\n",
    "\n",
    "uc13[\"eventType\"] = okta[\"eventType\"].copy()\n",
    "uc13[\"targetAppDisplayName\"] = okta[\"targetAppDisplayName\"].copy()"
   ]
  },
  {
   "cell_type": "code",
   "execution_count": null,
   "id": "3e8b3a12",
   "metadata": {},
   "outputs": [],
   "source": [
    "uc13 = uc13[uc13[\"eventType\"] == \"application.lifecycle.delete\"]"
   ]
  },
  {
   "cell_type": "code",
   "execution_count": null,
   "id": "49f79207",
   "metadata": {},
   "outputs": [],
   "source": [
    "uc13[\"targetAppDisplayName\"]"
   ]
  },
  {
   "cell_type": "code",
   "execution_count": null,
   "id": "150330ec",
   "metadata": {},
   "outputs": [],
   "source": [
    "stats = uc13.groupby([\"actor.alternateId\",\"targetAppDisplayName\"]).size().sort_values(ascending=False).reset_index(name=\"Count\")\n",
    "stats.where(stats[\"Count\"]>1).dropna()"
   ]
  },
  {
   "cell_type": "markdown",
   "id": "19c21134",
   "metadata": {},
   "source": [
    "### 14. Okta users is not authenticating with the Okta MFA mobile app"
   ]
  },
  {
   "cell_type": "code",
   "execution_count": null,
   "id": "5bc2918d",
   "metadata": {},
   "outputs": [],
   "source": [
    "uc14 = pd.DataFrame()\n",
    "uc14[\"_time\"] = okta[\"_time\"].copy()\n",
    "uc14[\"client.device\"] = okta[\"client.device\"].copy()\n",
    "uc14[\"client.ipAddress\"] = okta[\"client.ipAddress\"].copy()\n",
    "uc14[\"actor.alternateId\"] = okta[\"actor.alternateId\"].copy()\n",
    "uc14[\"actor.displayName\"] = okta[\"actor.displayName\"].copy()\n",
    "uc14[\"securityContext.isp\"] = okta[\"securityContext.isp\"].copy()\n",
    "uc14[\"client.userAgent.os\"] = okta[\"client.userAgent.os\"].copy()\n",
    "uc14[\"client.userAgent.browser\"] = okta[\"client.userAgent.browser\"].copy()\n",
    "uc14[\"client.userAgent.rawUserAgent\"] = okta[\"client.userAgent.rawUserAgent\"].copy()\n",
    "uc14[\"client.geographicalContext.city\"] = okta[\"client.geographicalContext.city\"].copy()\n",
    "uc14[\"client.geographicalContext.country\"] = okta[\"client.geographicalContext.country\"].copy()\n",
    "\n",
    "uc14[\"eventType\"] = okta[\"eventType\"].copy()\n",
    "uc14[\"outcome.result\"] = okta[\"outcome.result\"].copy()"
   ]
  },
  {
   "cell_type": "code",
   "execution_count": null,
   "id": "738d674b",
   "metadata": {},
   "outputs": [],
   "source": [
    "uc14_ar = [\"system.sms.send_factor_verify_message\",\"system.voice.send_mfa_challenge_call\"]\n",
    "uc14 = uc14[uc14[\"outcome.result\"] == \"SUCCESS\"]\n",
    "uc14 = uc14[uc14[\"eventType\"].isin(uc14_ar)]"
   ]
  },
  {
   "cell_type": "code",
   "execution_count": null,
   "id": "a73f21cc",
   "metadata": {},
   "outputs": [],
   "source": [
    "uc14"
   ]
  },
  {
   "cell_type": "markdown",
   "id": "6c61b19d",
   "metadata": {},
   "source": [
    "### 15. More than 10 failed Okta login attempts"
   ]
  },
  {
   "cell_type": "code",
   "execution_count": null,
   "id": "6a9fb80d",
   "metadata": {},
   "outputs": [],
   "source": [
    "uc15 = pd.DataFrame()\n",
    "uc15[\"_time\"] = okta[\"_time\"].copy()\n",
    "uc15[\"client.device\"] = okta[\"client.device\"].copy()\n",
    "uc15[\"client.ipAddress\"] = okta[\"client.ipAddress\"].copy()\n",
    "uc15[\"actor.alternateId\"] = okta[\"actor.alternateId\"].copy()\n",
    "uc15[\"actor.displayName\"] = okta[\"actor.displayName\"].copy()\n",
    "uc15[\"securityContext.isp\"] = okta[\"securityContext.isp\"].copy()\n",
    "uc15[\"client.userAgent.os\"] = okta[\"client.userAgent.os\"].copy()\n",
    "uc15[\"client.userAgent.browser\"] = okta[\"client.userAgent.browser\"].copy()\n",
    "uc15[\"client.userAgent.rawUserAgent\"] = okta[\"client.userAgent.rawUserAgent\"].copy()\n",
    "uc15[\"client.geographicalContext.city\"] = okta[\"client.geographicalContext.city\"].copy()\n",
    "uc15[\"client.geographicalContext.country\"] = okta[\"client.geographicalContext.country\"].copy()\n",
    "\n",
    "uc15[\"eventType\"] = okta[\"eventType\"].copy()\n",
    "uc15[\"outcome.result\"] = okta[\"outcome.result\"].copy()"
   ]
  },
  {
   "cell_type": "code",
   "execution_count": null,
   "id": "3a89018a",
   "metadata": {},
   "outputs": [],
   "source": [
    "uc15 = uc15[uc15[\"outcome.result\"] == \"FAILURE\"]\n",
    "uc15 = uc15[uc15[\"eventType\"] == \"user.session.start\"]"
   ]
  },
  {
   "cell_type": "code",
   "execution_count": null,
   "id": "7547fe5e",
   "metadata": {},
   "outputs": [],
   "source": [
    "stats = uc15.groupby([\"actor.alternateId\"]).size().sort_values(ascending=False).reset_index(name=\"Count\")\n",
    "stats.where(stats[\"Count\"]>10).dropna()"
   ]
  },
  {
   "cell_type": "markdown",
   "id": "6d480377",
   "metadata": {},
   "source": [
    "### 16. Okta admin role assigned"
   ]
  },
  {
   "cell_type": "code",
   "execution_count": null,
   "id": "e3d380fe",
   "metadata": {},
   "outputs": [],
   "source": [
    "uc16 = pd.DataFrame()\n",
    "uc16[\"_time\"] = okta[\"_time\"].copy()\n",
    "uc16[\"client.device\"] = okta[\"client.device\"].copy()\n",
    "uc16[\"client.ipAddress\"] = okta[\"client.ipAddress\"].copy()\n",
    "uc16[\"actor.alternateId\"] = okta[\"actor.alternateId\"].copy()\n",
    "uc16[\"actor.displayName\"] = okta[\"actor.displayName\"].copy()\n",
    "uc16[\"securityContext.isp\"] = okta[\"securityContext.isp\"].copy()\n",
    "uc16[\"client.userAgent.os\"] = okta[\"client.userAgent.os\"].copy()\n",
    "uc16[\"client.userAgent.browser\"] = okta[\"client.userAgent.browser\"].copy()\n",
    "uc16[\"client.userAgent.rawUserAgent\"] = okta[\"client.userAgent.rawUserAgent\"].copy()\n",
    "uc16[\"client.geographicalContext.city\"] = okta[\"client.geographicalContext.city\"].copy()\n",
    "uc16[\"client.geographicalContext.country\"] = okta[\"client.geographicalContext.country\"].copy()\n",
    "\n",
    "uc16[\"eventType\"] = okta[\"eventType\"].copy()\n",
    "uc16[\"outcome.result\"] = okta[\"outcome.result\"].copy()"
   ]
  },
  {
   "cell_type": "code",
   "execution_count": null,
   "id": "73cd7818",
   "metadata": {},
   "outputs": [],
   "source": [
    "uc16_ar = [\"user.account.privilege.grant\",\"group.privilege.grant\"]\n",
    "uc16 = uc16[uc16[\"outcome.result\"] == \"SUCCESS\"]\n",
    "uc16 = uc16[uc16[\"eventType\"].isin(uc16_ar)]"
   ]
  },
  {
   "cell_type": "code",
   "execution_count": null,
   "id": "40072b42",
   "metadata": {},
   "outputs": [],
   "source": [
    "uc16"
   ]
  },
  {
   "cell_type": "markdown",
   "id": "4fef3ef7",
   "metadata": {},
   "source": [
    "### 17: Okta suspicious activity reported"
   ]
  },
  {
   "cell_type": "code",
   "execution_count": null,
   "id": "027a649b",
   "metadata": {},
   "outputs": [],
   "source": [
    "uc17 = pd.DataFrame()\n",
    "uc17[\"_time\"] = okta[\"_time\"].copy()\n",
    "uc17[\"client.device\"] = okta[\"client.device\"].copy()\n",
    "uc17[\"client.ipAddress\"] = okta[\"client.ipAddress\"].copy()\n",
    "uc17[\"actor.alternateId\"] = okta[\"actor.alternateId\"].copy()\n",
    "uc17[\"actor.displayName\"] = okta[\"actor.displayName\"].copy()\n",
    "uc17[\"securityContext.isp\"] = okta[\"securityContext.isp\"].copy()\n",
    "uc17[\"client.userAgent.os\"] = okta[\"client.userAgent.os\"].copy()\n",
    "uc17[\"client.userAgent.browser\"] = okta[\"client.userAgent.browser\"].copy()\n",
    "uc17[\"client.userAgent.rawUserAgent\"] = okta[\"client.userAgent.rawUserAgent\"].copy()\n",
    "uc17[\"client.geographicalContext.city\"] = okta[\"client.geographicalContext.city\"].copy()\n",
    "uc17[\"client.geographicalContext.country\"] = okta[\"client.geographicalContext.country\"].copy()\n",
    "\n",
    "uc17[\"eventType\"] = okta[\"eventType\"].copy()"
   ]
  },
  {
   "cell_type": "code",
   "execution_count": null,
   "id": "0bd85313",
   "metadata": {},
   "outputs": [],
   "source": [
    "uc17_ar = [\"user.account.report_suspicious_activity_by_enduser\",\"user.session.impersonation.initiate\",\"user.session.impersonation.grant\",\"user.mfa.attempt_bypass\",\"user.mfa.factor.suspend\",\"user.account.update_primary_email\"]\n",
    "uc17 = uc17[uc17[\"eventType\"].isin(uc17_ar)]\n",
    "uc17"
   ]
  },
  {
   "cell_type": "markdown",
   "id": "0e88a7e3",
   "metadata": {},
   "source": [
    "### 18: Okta impossible impossible travel anomaly within 1 hour"
   ]
  },
  {
   "cell_type": "code",
   "execution_count": null,
   "id": "c3d0cd6a",
   "metadata": {},
   "outputs": [],
   "source": [
    "uc18 = pd.DataFrame()\n",
    "uc18[\"_time\"] = okta[\"_time\"].copy()\n",
    "uc18[\"client.device\"] = okta[\"client.device\"].copy()\n",
    "uc18[\"client.ipAddress\"] = okta[\"client.ipAddress\"].copy()\n",
    "uc18[\"actor.alternateId\"] = okta[\"actor.alternateId\"].copy()\n",
    "uc18[\"actor.displayName\"] = okta[\"actor.displayName\"].copy()\n",
    "uc18[\"securityContext.isp\"] = okta[\"securityContext.isp\"].copy()\n",
    "uc18[\"client.userAgent.os\"] = okta[\"client.userAgent.os\"].copy()\n",
    "uc18[\"client.userAgent.browser\"] = okta[\"client.userAgent.browser\"].copy()\n",
    "uc18[\"client.userAgent.rawUserAgent\"] = okta[\"client.userAgent.rawUserAgent\"].copy()\n",
    "uc18[\"client.geographicalContext.city\"] = okta[\"client.geographicalContext.city\"].copy()\n",
    "uc18[\"client.geographicalContext.country\"] = okta[\"client.geographicalContext.country\"].copy()\n",
    "\n",
    "uc18[\"eventType\"] = okta[\"eventType\"].copy()\n",
    "uc18[\"outcome.result\"] = okta[\"outcome.result\"].copy()"
   ]
  },
  {
   "cell_type": "code",
   "execution_count": null,
   "id": "767a6734",
   "metadata": {},
   "outputs": [],
   "source": [
    "uc18 = uc18[uc18[\"outcome.result\"] == \"SUCCESS\"]\n",
    "uc18 = uc18[uc18[\"eventType\"] == \"user.session.start\"]"
   ]
  },
  {
   "cell_type": "code",
   "execution_count": null,
   "id": "75655961",
   "metadata": {},
   "outputs": [],
   "source": [
    "stats = uc18.groupby([\"actor.alternateId\"]).agg(list)\n",
    "stats.reset_index(inplace=True)"
   ]
  },
  {
   "cell_type": "code",
   "execution_count": null,
   "id": "d027eb12",
   "metadata": {},
   "outputs": [],
   "source": [
    "stats['client.geographicalContext.country'] = stats['client.geographicalContext.country'].apply(lambda x: np.unique(x))\n",
    "stats['UniqueCountryCount'] = stats['client.geographicalContext.country'].apply(lambda x: len(x))\n",
    "stats['UniqueTimeCount'] = stats['_time'].apply(lambda x: len(x))\n",
    "stats = stats.loc[stats['UniqueCountryCount'] > 1]\n",
    "stats['_time'] = stats['_time'].apply(lambda x: sorted(x))"
   ]
  },
  {
   "cell_type": "code",
   "execution_count": null,
   "id": "a07e8877",
   "metadata": {},
   "outputs": [],
   "source": [
    "def funX(x):\n",
    "    td = []\n",
    "    for y in range(len(x)):\n",
    "        td.append(pd.Timedelta(x[y]-x[0]))\n",
    "    return td\n",
    "stats['Timedelta'] = stats['_time'].apply(lambda x: funX(x))"
   ]
  },
  {
   "cell_type": "code",
   "execution_count": null,
   "id": "04307fff",
   "metadata": {},
   "outputs": [],
   "source": [
    "stats.sort_values(by=\"UniqueCountryCount\", ascending=False, inplace=True)"
   ]
  },
  {
   "cell_type": "code",
   "execution_count": null,
   "id": "a7849ab3",
   "metadata": {},
   "outputs": [],
   "source": [
    "#for x in stats['Timedelta']:\n",
    "#    for y in range(len(x)):\n",
    "#        print(x[y])\n",
    "stats.head()"
   ]
  },
  {
   "cell_type": "markdown",
   "id": "df21b26f",
   "metadata": {},
   "source": [
    "### 19: Okta user logs in with a possibly bad user-agent"
   ]
  },
  {
   "cell_type": "code",
   "execution_count": null,
   "id": "a5c6a31e",
   "metadata": {},
   "outputs": [],
   "source": [
    "uc19 = pd.DataFrame()\n",
    "uc19[\"_time\"] = okta[\"_time\"].copy()\n",
    "uc19[\"client.device\"] = okta[\"client.device\"].copy()\n",
    "uc19[\"client.ipAddress\"] = okta[\"client.ipAddress\"].copy()\n",
    "uc19[\"actor.alternateId\"] = okta[\"actor.alternateId\"].copy()\n",
    "uc19[\"actor.displayName\"] = okta[\"actor.displayName\"].copy()\n",
    "uc19[\"securityContext.isp\"] = okta[\"securityContext.isp\"].copy()\n",
    "uc19[\"client.userAgent.os\"] = okta[\"client.userAgent.os\"].copy()\n",
    "uc19[\"client.userAgent.browser\"] = okta[\"client.userAgent.browser\"].copy()\n",
    "uc19[\"client.userAgent.rawUserAgent\"] = okta[\"client.userAgent.rawUserAgent\"].copy()\n",
    "uc19[\"client.geographicalContext.city\"] = okta[\"client.geographicalContext.city\"].copy()\n",
    "uc19[\"client.geographicalContext.country\"] = okta[\"client.geographicalContext.country\"].copy()\n",
    "\n",
    "uc19[\"eventType\"] = okta[\"eventType\"].copy()\n",
    "uc19[\"outcome.result\"] = okta[\"outcome.result\"].copy()"
   ]
  },
  {
   "cell_type": "code",
   "execution_count": null,
   "id": "e0a083d9",
   "metadata": {},
   "outputs": [],
   "source": [
    "uc19 = uc19[uc19[\"outcome.result\"] == \"SUCCESS\"]\n",
    "uc19 = uc19[uc19[\"eventType\"] == \"user.session.start\"]"
   ]
  },
  {
   "cell_type": "code",
   "execution_count": null,
   "id": "04523efb",
   "metadata": {},
   "outputs": [],
   "source": [
    "bad_ua = pd.read_csv(\"OSINT/Bin/Bad_UA.csv\")\n",
    "bad_ua.drop(columns=\"Unnamed: 0\",inplace=True)"
   ]
  },
  {
   "cell_type": "code",
   "execution_count": null,
   "id": "cc744650",
   "metadata": {},
   "outputs": [],
   "source": [
    "ua = bad_ua.get(key=\"Bad_UA\")\n",
    "ua = ua.array\n",
    "uc19.loc[uc19[\"client.ipAddress\"].isin(ua)]"
   ]
  },
  {
   "cell_type": "markdown",
   "id": "7548eb38",
   "metadata": {},
   "source": [
    "### 20. Locked out Okta users"
   ]
  },
  {
   "cell_type": "code",
   "execution_count": null,
   "id": "846af23a",
   "metadata": {},
   "outputs": [],
   "source": [
    "uc20 = pd.DataFrame()\n",
    "uc20[\"_time\"] = okta[\"_time\"].copy()\n",
    "uc20[\"client.device\"] = okta[\"client.device\"].copy()\n",
    "uc20[\"client.ipAddress\"] = okta[\"client.ipAddress\"].copy()\n",
    "uc20[\"actor.alternateId\"] = okta[\"actor.alternateId\"].copy()\n",
    "uc20[\"actor.displayName\"] = okta[\"actor.displayName\"].copy()\n",
    "uc20[\"securityContext.isp\"] = okta[\"securityContext.isp\"].copy()\n",
    "uc20[\"client.userAgent.os\"] = okta[\"client.userAgent.os\"].copy()\n",
    "uc20[\"client.userAgent.browser\"] = okta[\"client.userAgent.browser\"].copy()\n",
    "uc20[\"client.userAgent.rawUserAgent\"] = okta[\"client.userAgent.rawUserAgent\"].copy()\n",
    "uc20[\"client.geographicalContext.city\"] = okta[\"client.geographicalContext.city\"].copy()\n",
    "uc20[\"client.geographicalContext.country\"] = okta[\"client.geographicalContext.country\"].copy()\n",
    "\n",
    "uc20[\"eventType\"] = okta[\"eventType\"].copy()\n",
    "uc20[\"outcome.reason\"] = okta[\"outcome.reason\"].copy()\n",
    "uc20[\"displayMessage\"] = okta[\"displayMessage\"].copy()"
   ]
  },
  {
   "cell_type": "code",
   "execution_count": null,
   "id": "71ddda7a",
   "metadata": {},
   "outputs": [],
   "source": [
    "uc20 = uc20[uc20[\"eventType\"] == \"user.account.lock\"]"
   ]
  },
  {
   "cell_type": "code",
   "execution_count": null,
   "id": "103f23f0",
   "metadata": {},
   "outputs": [],
   "source": [
    "stats = uc20.groupby([\"actor.alternateId\"]).agg(list)\n",
    "stats.reset_index(inplace=True)"
   ]
  },
  {
   "cell_type": "code",
   "execution_count": null,
   "id": "9227509e",
   "metadata": {},
   "outputs": [],
   "source": [
    "stats['EventCount'] = stats['eventType'].apply(lambda x: len(x))\n",
    "stats = stats.loc[stats['EventCount'] > 1]\n",
    "stats.sort_values(by=\"EventCount\", ascending=False, inplace=True)"
   ]
  },
  {
   "cell_type": "code",
   "execution_count": null,
   "id": "6cdefbec",
   "metadata": {},
   "outputs": [],
   "source": [
    "stats"
   ]
  },
  {
   "cell_type": "markdown",
   "id": "966e5d77",
   "metadata": {},
   "source": [
    "### 21. Okta user got unlocked"
   ]
  },
  {
   "cell_type": "code",
   "execution_count": null,
   "id": "61466ef7",
   "metadata": {},
   "outputs": [],
   "source": [
    "uc21 = pd.DataFrame()\n",
    "uc21[\"_time\"] = okta[\"_time\"].copy()\n",
    "uc21[\"client.device\"] = okta[\"client.device\"].copy()\n",
    "uc21[\"client.ipAddress\"] = okta[\"client.ipAddress\"].copy()\n",
    "uc21[\"actor.alternateId\"] = okta[\"actor.alternateId\"].copy()\n",
    "uc21[\"actor.displayName\"] = okta[\"actor.displayName\"].copy()\n",
    "uc21[\"securityContext.isp\"] = okta[\"securityContext.isp\"].copy()\n",
    "uc21[\"client.userAgent.os\"] = okta[\"client.userAgent.os\"].copy()\n",
    "uc21[\"client.userAgent.browser\"] = okta[\"client.userAgent.browser\"].copy()\n",
    "uc21[\"client.userAgent.rawUserAgent\"] = okta[\"client.userAgent.rawUserAgent\"].copy()\n",
    "uc21[\"client.geographicalContext.city\"] = okta[\"client.geographicalContext.city\"].copy()\n",
    "uc21[\"client.geographicalContext.country\"] = okta[\"client.geographicalContext.country\"].copy()\n",
    "\n",
    "uc21[\"eventType\"] = okta[\"eventType\"].copy()\n",
    "uc21[\"targetAppDisplayName\"] = okta[\"targetAppDisplayName\"].copy()"
   ]
  },
  {
   "cell_type": "code",
   "execution_count": null,
   "id": "fc382c0b",
   "metadata": {},
   "outputs": [],
   "source": [
    "uc21 = uc21[uc21[\"eventType\"] == \"system.email.mfa_reset_notification.sent_message\"]"
   ]
  },
  {
   "cell_type": "code",
   "execution_count": null,
   "id": "e856cc0a",
   "metadata": {},
   "outputs": [],
   "source": [
    "stats = uc21.groupby([\"actor.alternateId\"]).agg(list)\n",
    "stats.reset_index(inplace=True)"
   ]
  },
  {
   "cell_type": "code",
   "execution_count": null,
   "id": "c255756b",
   "metadata": {},
   "outputs": [],
   "source": [
    "stats['EventCount'] = stats['eventType'].apply(lambda x: len(x))\n",
    "stats = stats.loc[stats['EventCount'] > 1]\n",
    "stats.sort_values(by=\"EventCount\", ascending=False, inplace=True)"
   ]
  },
  {
   "cell_type": "code",
   "execution_count": null,
   "id": "5747692e",
   "metadata": {},
   "outputs": [],
   "source": [
    "stats"
   ]
  },
  {
   "cell_type": "markdown",
   "id": "198ba255",
   "metadata": {},
   "source": [
    "### OSINT"
   ]
  },
  {
   "cell_type": "code",
   "execution_count": null,
   "id": "8f53beb9",
   "metadata": {},
   "outputs": [],
   "source": [
    "#!curl \"https://feodotracker.abuse.ch/downloads/ipblocklist.txt\" -o \"ipblocklist.txt\"\n",
    "#!curl \"https://rules.emergingthreats.net/fwrules/emerging-Block-IPs.txt\" -o \"emerging-Block-IPs.txt\"\n",
    "#!curl \"https://feodotracker.abuse.ch/downloads/ipblocklist_aggressive.txt\" -o \"ipblocklist_aggressive.txt\"\n",
    "#!curl \"https://feodotracker.abuse.ch/downloads/ipblocklist_recommended.txt\" -o \"ipblocklist_recommended.txt\"\n",
    "#!curl \"https://raw.githubusercontent.com/SecOps-Institute/Tor-IP-Addresses/master/tor-exit-nodes.lst\" -o \"tor-nodes.csv\"\n",
    "#!curl \"https://raw.githubusercontent.com/SecOps-Institute/Tor-IP-Addresses/master/tor-nodes.lst\" -o \"tor-exit-nodes.csv\"\n",
    "#!curl \"https://gist.githubusercontent.com/pzb/b4b6f57144aea7827ae4/raw/cf847b76a142955b1410c8bcef3aabe221a63db1/user-agents.txt\" -o \"bad-user_agents.txt\""
   ]
  }
 ],
 "metadata": {
  "kernelspec": {
   "display_name": "conda_python3",
   "language": "python",
   "name": "conda_python3"
  },
  "language_info": {
   "codemirror_mode": {
    "name": "ipython",
    "version": 3
   },
   "file_extension": ".py",
   "mimetype": "text/x-python",
   "name": "python",
   "nbconvert_exporter": "python",
   "pygments_lexer": "ipython3",
   "version": "3.6.13"
  }
 },
 "nbformat": 4,
 "nbformat_minor": 5
}
