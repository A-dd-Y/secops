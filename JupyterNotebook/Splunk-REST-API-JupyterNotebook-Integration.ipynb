{
 "cells": [
  {
   "cell_type": "markdown",
   "id": "40201354",
   "metadata": {},
   "source": [
    "# Threat Hunting - Data Science"
   ]
  },
  {
   "cell_type": "markdown",
   "id": "806dabfd",
   "metadata": {},
   "source": [
    "## Splunk REST API - JupyterNotebook Integration"
   ]
  },
  {
   "cell_type": "markdown",
   "id": "ef8edfb3",
   "metadata": {},
   "source": [
    "### Basic Info Check"
   ]
  },
  {
   "cell_type": "code",
   "execution_count": null,
   "id": "1cba68da",
   "metadata": {},
   "outputs": [],
   "source": [
    "#!python3 --version\n",
    "#!curl ipinfo.io/ip"
   ]
  },
  {
   "cell_type": "markdown",
   "id": "d75923a7",
   "metadata": {},
   "source": [
    "### Imports"
   ]
  },
  {
   "cell_type": "code",
   "execution_count": null,
   "id": "913e8f7c",
   "metadata": {},
   "outputs": [],
   "source": [
    "import os, sys, time\n",
    "\n",
    "import pandas as pd\n",
    "\n",
    "import json, boto3, requests, warnings\n",
    "\n",
    "warnings.filterwarnings(\"ignore\")\n",
    "\n",
    "from lxml.etree import fromstring\n",
    "import xml.etree.ElementTree as ET"
   ]
  },
  {
   "cell_type": "markdown",
   "id": "32e469ca",
   "metadata": {},
   "source": [
    "### Floating Data Precision"
   ]
  },
  {
   "cell_type": "code",
   "execution_count": null,
   "id": "2e332024",
   "metadata": {},
   "outputs": [],
   "source": [
    "pd.options.display.float_format = '{:.4f}'.format"
   ]
  },
  {
   "cell_type": "markdown",
   "id": "ab447fd2",
   "metadata": {},
   "source": [
    "### Splunk Secret From AWS Secrets Manager - replace \"xxxxxxxxxx\" with splunk secret arn"
   ]
  },
  {
   "cell_type": "code",
   "execution_count": null,
   "id": "4357e952",
   "metadata": {},
   "outputs": [],
   "source": [
    "secrets_client = boto3.client('secretsmanager')\n",
    "secret_arn = 'xxxxxxxxxxxxxxxxxxxx'\n",
    "auth_token = secrets_client.get_secret_value(SecretId=secret_arn).get('SecretString')\n",
    "auth_token = json.loads(auth_token)"
   ]
  },
  {
   "cell_type": "markdown",
   "id": "c1c6fc7d",
   "metadata": {},
   "source": [
    "### replace \"xxxxxxxxxx\" with splunk username [secret stored in aws secret manager as username:password]"
   ]
  },
  {
   "cell_type": "code",
   "execution_count": null,
   "id": "8eb4afb4",
   "metadata": {},
   "outputs": [],
   "source": [
    "username = \"xxxxxxxxxxxxxxxxxxxx\"\n",
    "password = auth_token.get(\"xxxxxxxxxxxxxxxxxxxx\")"
   ]
  },
  {
   "cell_type": "markdown",
   "id": "9e3a31cb",
   "metadata": {},
   "source": [
    "### Splunk Search Job, replace \"xxxxxxxxxx\" with splunk instance ip\n",
    "### replace \"xxxxxxxxxx\" with splunk search \\`macro\\` or splunk search as [search index=*]"
   ]
  },
  {
   "cell_type": "code",
   "execution_count": null,
   "id": "e5eaa68c",
   "metadata": {},
   "outputs": [],
   "source": [
    "url = \"https://xxxxxxxxxxxxxxxxxxxx:8089/services/search/jobs\"\n",
    "\n",
    "data = {\n",
    "    'search': 'xxxxxxxxxxxxxxxxxxxx',\n",
    "    'id': 'xxxxxxxxxx', # enter custom search id\n",
    "    'max_count': '50000', # api limit can be increased with splunk config file on splunk instance\n",
    "    'output_mode':'csv'\n",
    "}\n",
    "\n",
    "response = requests.post(url, data=data, verify=False, auth=(username, password))"
   ]
  },
  {
   "cell_type": "markdown",
   "id": "e92f932b",
   "metadata": {},
   "source": [
    "### Splunk Search Job Control"
   ]
  },
  {
   "cell_type": "code",
   "execution_count": null,
   "id": "2983919b",
   "metadata": {},
   "outputs": [],
   "source": [
    "#sid = 'xxxxxxxxxx' # your custom search id\n",
    "\n",
    "#control_url = url + '/' + sid + '/control'\n",
    "\n",
    "#data = {'action': 'pause'}\n",
    "\n",
    "#response = requests.post(control_url, data=data, verify=False, auth=(username, password))"
   ]
  },
  {
   "cell_type": "markdown",
   "id": "882dc33d",
   "metadata": {},
   "source": [
    "### Splunk Search Job Status"
   ]
  },
  {
   "cell_type": "code",
   "execution_count": null,
   "id": "729ce79e",
   "metadata": {},
   "outputs": [],
   "source": [
    "sid = 'xxxxxxxxxx' # your custom search id\n",
    "\n",
    "status_url = url + '/' + sid\n",
    "\n",
    "response = requests.get(status_url, verify=False, auth=(username, password))"
   ]
  },
  {
   "cell_type": "code",
   "execution_count": null,
   "id": "9a9d101d",
   "metadata": {},
   "outputs": [],
   "source": [
    "with open('SearchJobStatus.xml','w') as file:\n",
    "    file.write(response.text)"
   ]
  },
  {
   "cell_type": "markdown",
   "id": "17a3f215",
   "metadata": {},
   "source": [
    "### wait and re run until this cell print \"Search Completed !!\""
   ]
  },
  {
   "cell_type": "code",
   "execution_count": null,
   "id": "da4a8c46",
   "metadata": {},
   "outputs": [],
   "source": [
    "tree = ET.parse('SearchJobStatus.xml')\n",
    "root = tree.getroot()\n",
    "for child in root:\n",
    "    if child.tag == \"{http://www.w3.org/2005/Atom}content\":\n",
    "                print('Query Status :',child[0][19].text)\n",
    "                if (child[0][19].text) == \"1\":\n",
    "                    print(\"\\nSearch Completed !!\")\n",
    "                break"
   ]
  },
  {
   "cell_type": "markdown",
   "id": "d40a78f2",
   "metadata": {},
   "source": [
    "### Splunk Search Results, replace \"xxxxxxxxxx\" with splunk instance ip"
   ]
  },
  {
   "cell_type": "code",
   "execution_count": null,
   "id": "1c7e5fa5",
   "metadata": {},
   "outputs": [],
   "source": [
    "sid = 'xxxxxxxxxx' # your custom search id\n",
    "\n",
    "results_url = \"https://xxxxxxxxxxxxxxxxxxxx:8089/services/search/jobs/\" + sid + \"/results\"\n",
    "\n",
    "params = (\n",
    "    ('count', '0'), # get number of results from splunk\n",
    "    ('output_mode', 'csv')\n",
    ")\n",
    "\n",
    "response = requests.get(results_url, params=params, verify=False, auth=(username, password))"
   ]
  },
  {
   "cell_type": "code",
   "execution_count": null,
   "id": "ee59ad48",
   "metadata": {},
   "outputs": [],
   "source": [
    "with open(\"spl_xxxxxxxxxx.csv\",\"w\") as file: # file name to save\n",
    "    file.write(response.text)"
   ]
  },
  {
   "cell_type": "markdown",
   "id": "4f7c1d75",
   "metadata": {},
   "source": [
    "### Pandas DataFrame Basic"
   ]
  },
  {
   "cell_type": "code",
   "execution_count": null,
   "id": "3821e086",
   "metadata": {},
   "outputs": [],
   "source": [
    "df_splunk = pd.read_csv('spl_xxxxxxxxxx.csv') # file name to read"
   ]
  },
  {
   "cell_type": "code",
   "execution_count": null,
   "id": "1b2d305a",
   "metadata": {},
   "outputs": [],
   "source": [
    "df_splunk.describe()"
   ]
  },
  {
   "cell_type": "code",
   "execution_count": null,
   "id": "94b8e96b",
   "metadata": {},
   "outputs": [],
   "source": [
    "df_splunk.info()"
   ]
  },
  {
   "cell_type": "code",
   "execution_count": null,
   "id": "77ca29a4",
   "metadata": {},
   "outputs": [],
   "source": [
    "df_splunk.columns"
   ]
  },
  {
   "cell_type": "markdown",
   "id": "cbdea94f",
   "metadata": {},
   "source": [
    "### if you are getting error while reading data from file to pandas datafram, try this"
   ]
  },
  {
   "cell_type": "code",
   "execution_count": null,
   "id": "ed066d81",
   "metadata": {},
   "outputs": [],
   "source": [
    "df_splunk = pd.read_csv(\"spl_xxxxxxxxxx.csv\", encoding='iso-8859-1', engine='python', warn_bad_lines=False, error_bad_lines=False)"
   ]
  },
  {
   "cell_type": "markdown",
   "id": "cd08f333",
   "metadata": {},
   "source": [
    "### change time format - enter your time column name"
   ]
  },
  {
   "cell_type": "code",
   "execution_count": null,
   "id": "a3c4780d",
   "metadata": {},
   "outputs": [],
   "source": [
    "df_splunk['time - column - name'] = pd.to_datetime(df_splunk['time - column - name'], infer_datetime_format=True)"
   ]
  }
 ],
 "metadata": {
  "kernelspec": {
   "display_name": "conda_python3",
   "language": "python",
   "name": "conda_python3"
  },
  "language_info": {
   "codemirror_mode": {
    "name": "ipython",
    "version": 3
   },
   "file_extension": ".py",
   "mimetype": "text/x-python",
   "name": "python",
   "nbconvert_exporter": "python",
   "pygments_lexer": "ipython3",
   "version": "3.6.13"
  }
 },
 "nbformat": 4,
 "nbformat_minor": 5
}
